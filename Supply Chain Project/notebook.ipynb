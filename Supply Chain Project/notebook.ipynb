{
 "cells": [
  {
   "cell_type": "code",
   "execution_count": 1,
   "metadata": {},
   "outputs": [],
   "source": [
    "import pandas as pd\n",
    "from sklearn.preprocessing import LabelEncoder"
   ]
  },
  {
   "cell_type": "markdown",
   "metadata": {},
   "source": [
    "https://data.usaid.gov/Health/USAID-GHSC-PSM-Health-Commodity-Delivery-Dataset/tikn-bfy4/about_data"
   ]
  },
  {
   "cell_type": "code",
   "execution_count": 2,
   "metadata": {},
   "outputs": [],
   "source": [
    "data = pd.read_excel(\"Supply chain logisitcs problem.xlsx\", sheet_name=\"FreightRates\")"
   ]
  },
  {
   "cell_type": "code",
   "execution_count": 3,
   "metadata": {},
   "outputs": [
    {
     "name": "stdout",
     "output_type": "stream",
     "text": [
      "<class 'pandas.core.frame.DataFrame'>\n",
      "RangeIndex: 1540 entries, 0 to 1539\n",
      "Data columns (total 11 columns):\n",
      " #   Column        Non-Null Count  Dtype  \n",
      "---  ------        --------------  -----  \n",
      " 0   Carrier       1540 non-null   object \n",
      " 1   orig_port_cd  1540 non-null   object \n",
      " 2   dest_port_cd  1540 non-null   object \n",
      " 3   minm_wgh_qty  1540 non-null   float64\n",
      " 4   max_wgh_qty   1540 non-null   float64\n",
      " 5   svc_cd        1540 non-null   object \n",
      " 6   minimum cost  1540 non-null   float64\n",
      " 7   rate          1540 non-null   float64\n",
      " 8   mode_dsc      1540 non-null   object \n",
      " 9   tpt_day_cnt   1540 non-null   int64  \n",
      " 10  Carrier type  1540 non-null   object \n",
      "dtypes: float64(4), int64(1), object(6)\n",
      "memory usage: 132.5+ KB\n"
     ]
    }
   ],
   "source": [
    "data.info()"
   ]
  },
  {
   "cell_type": "code",
   "execution_count": 4,
   "metadata": {},
   "outputs": [
    {
     "data": {
      "text/html": [
       "<div>\n",
       "<style scoped>\n",
       "    .dataframe tbody tr th:only-of-type {\n",
       "        vertical-align: middle;\n",
       "    }\n",
       "\n",
       "    .dataframe tbody tr th {\n",
       "        vertical-align: top;\n",
       "    }\n",
       "\n",
       "    .dataframe thead th {\n",
       "        text-align: right;\n",
       "    }\n",
       "</style>\n",
       "<table border=\"1\" class=\"dataframe\">\n",
       "  <thead>\n",
       "    <tr style=\"text-align: right;\">\n",
       "      <th></th>\n",
       "      <th>Carrier</th>\n",
       "      <th>orig_port_cd</th>\n",
       "      <th>dest_port_cd</th>\n",
       "      <th>minm_wgh_qty</th>\n",
       "      <th>max_wgh_qty</th>\n",
       "      <th>svc_cd</th>\n",
       "      <th>minimum cost</th>\n",
       "      <th>rate</th>\n",
       "      <th>mode_dsc</th>\n",
       "      <th>tpt_day_cnt</th>\n",
       "      <th>Carrier type</th>\n",
       "    </tr>\n",
       "  </thead>\n",
       "  <tbody>\n",
       "    <tr>\n",
       "      <th>0</th>\n",
       "      <td>V444_6</td>\n",
       "      <td>PORT08</td>\n",
       "      <td>PORT09</td>\n",
       "      <td>250.0</td>\n",
       "      <td>499.99</td>\n",
       "      <td>DTD</td>\n",
       "      <td>43.2272</td>\n",
       "      <td>0.7132</td>\n",
       "      <td>AIR</td>\n",
       "      <td>2</td>\n",
       "      <td>V88888888_0</td>\n",
       "    </tr>\n",
       "    <tr>\n",
       "      <th>1</th>\n",
       "      <td>V444_6</td>\n",
       "      <td>PORT08</td>\n",
       "      <td>PORT09</td>\n",
       "      <td>65.0</td>\n",
       "      <td>69.99</td>\n",
       "      <td>DTD</td>\n",
       "      <td>43.2272</td>\n",
       "      <td>0.7512</td>\n",
       "      <td>AIR</td>\n",
       "      <td>2</td>\n",
       "      <td>V88888888_0</td>\n",
       "    </tr>\n",
       "    <tr>\n",
       "      <th>2</th>\n",
       "      <td>V444_6</td>\n",
       "      <td>PORT08</td>\n",
       "      <td>PORT09</td>\n",
       "      <td>60.0</td>\n",
       "      <td>64.99</td>\n",
       "      <td>DTD</td>\n",
       "      <td>43.2272</td>\n",
       "      <td>0.7892</td>\n",
       "      <td>AIR</td>\n",
       "      <td>2</td>\n",
       "      <td>V88888888_0</td>\n",
       "    </tr>\n",
       "    <tr>\n",
       "      <th>3</th>\n",
       "      <td>V444_6</td>\n",
       "      <td>PORT08</td>\n",
       "      <td>PORT09</td>\n",
       "      <td>50.0</td>\n",
       "      <td>54.99</td>\n",
       "      <td>DTD</td>\n",
       "      <td>43.2272</td>\n",
       "      <td>0.8272</td>\n",
       "      <td>AIR</td>\n",
       "      <td>2</td>\n",
       "      <td>V88888888_0</td>\n",
       "    </tr>\n",
       "    <tr>\n",
       "      <th>4</th>\n",
       "      <td>V444_6</td>\n",
       "      <td>PORT08</td>\n",
       "      <td>PORT09</td>\n",
       "      <td>35.0</td>\n",
       "      <td>39.99</td>\n",
       "      <td>DTD</td>\n",
       "      <td>43.2272</td>\n",
       "      <td>1.0552</td>\n",
       "      <td>AIR</td>\n",
       "      <td>2</td>\n",
       "      <td>V88888888_0</td>\n",
       "    </tr>\n",
       "  </tbody>\n",
       "</table>\n",
       "</div>"
      ],
      "text/plain": [
       "  Carrier orig_port_cd dest_port_cd  minm_wgh_qty  max_wgh_qty svc_cd  \\\n",
       "0  V444_6       PORT08       PORT09         250.0       499.99    DTD   \n",
       "1  V444_6       PORT08       PORT09          65.0        69.99    DTD   \n",
       "2  V444_6       PORT08       PORT09          60.0        64.99    DTD   \n",
       "3  V444_6       PORT08       PORT09          50.0        54.99    DTD   \n",
       "4  V444_6       PORT08       PORT09          35.0        39.99    DTD   \n",
       "\n",
       "   minimum cost    rate mode_dsc  tpt_day_cnt Carrier type  \n",
       "0       43.2272  0.7132   AIR               2  V88888888_0  \n",
       "1       43.2272  0.7512   AIR               2  V88888888_0  \n",
       "2       43.2272  0.7892   AIR               2  V88888888_0  \n",
       "3       43.2272  0.8272   AIR               2  V88888888_0  \n",
       "4       43.2272  1.0552   AIR               2  V88888888_0  "
      ]
     },
     "execution_count": 4,
     "metadata": {},
     "output_type": "execute_result"
    }
   ],
   "source": [
    "data.head()"
   ]
  },
  {
   "cell_type": "code",
   "execution_count": 5,
   "metadata": {},
   "outputs": [],
   "source": [
    "data = data.rename(\n",
    "    columns={\n",
    "    \"Carrier\": \"carrier\",\n",
    "    'orig_port_cd': \"origin_port_code\",\n",
    "    'dest_port_cd': \"destination_port_code\",\n",
    "    'minm_wgh_qty': \"min_weight_quantity\",\n",
    "    'max_wgh_qty': \"max_weight_quantity\", \n",
    "    'svc_cd': \"service_code\", \n",
    "    'mode_dsc': \"mode_description\",\n",
    "    'tpt_day_cnt': \"transport_day_count\", \n",
    "    'Carrier type': \"carrier_type\"\n",
    "    }\n",
    ")"
   ]
  },
  {
   "cell_type": "code",
   "execution_count": 6,
   "metadata": {},
   "outputs": [
    {
     "data": {
      "text/plain": [
       "Index(['carrier', 'origin_port_code', 'destination_port_code',\n",
       "       'min_weight_quantity', 'max_weight_quantity', 'service_code',\n",
       "       'minimum cost', 'rate', 'mode_description', 'transport_day_count',\n",
       "       'carrier_type'],\n",
       "      dtype='object')"
      ]
     },
     "execution_count": 6,
     "metadata": {},
     "output_type": "execute_result"
    }
   ],
   "source": [
    "data.columns"
   ]
  },
  {
   "cell_type": "markdown",
   "metadata": {},
   "source": [
    "Renamed columns to make them more understandable."
   ]
  },
  {
   "cell_type": "markdown",
   "metadata": {},
   "source": [
    "## Column Meaning"
   ]
  },
  {
   "cell_type": "markdown",
   "metadata": {},
   "source": [
    "1.**carrier**: Represents the shipping or transport carrier company. Each carrier might be associated with specific services, transport modes, and costs.\n",
    "\t\n",
    "2.**origin_port_code**: Stands for origin port code. This column represents the code or identifier for the location (port) from which the shipment originates.\n",
    "\n",
    "3.**destination_port_code**: Stands for destination port code. This column represents the code or identifier for the location (port) where the shipment is delivered.\n",
    "\n",
    "4.**minimun_weight_quantity**: Short for minimum weight quantity. This represents the minimum weight (in a specific unit) for which the rate or cost applies.\n",
    "\n",
    "5.**max_weight_quantity** Short for maximum weight quantity. This represents the maximum weight (in a specific unit) for which the rate or cost applies.\n",
    "\n",
    "6.**service_code**: Stands for service code. This represents the type or level of service offered by the carrier (e.g., dtp: door-to-port, dtd: door-to-door, etc.).\n",
    "\n",
    "7.**minimum_cost** : Represents the minimum cost charged for the shipment within the specified weight range, regardless of the exact weight.\n",
    "\n",
    "8.**rate**: Represents the cost rate (likely per unit of weight) that is charged by the carrier for the shipment. This value is applied based on the minm_wgh_qty and max_wgh_qty.\n",
    "\n",
    "9.**mode_description**: Short for mode description. This represents the transportation mode used by the carrier (e.g., AIR, GROUND).\n",
    "\n",
    "10.**transport_day_count**: Short for transport day count. This column represents the number of days it will take for the shipment to be transported from the origin port to the destination port.\n",
    "\t\n",
    "11.**carrier_type**: Represents the type or classification of the carrier (e.g., based on the nature of the service, company type, or other differentiators). It could be a code or description for internal categorization."
   ]
  },
  {
   "cell_type": "markdown",
   "metadata": {},
   "source": [
    "## Checking for Duplicates or Missing Values"
   ]
  },
  {
   "cell_type": "markdown",
   "metadata": {},
   "source": [
    "### Missing Values: "
   ]
  },
  {
   "cell_type": "code",
   "execution_count": 9,
   "metadata": {},
   "outputs": [
    {
     "data": {
      "text/plain": [
       "count    1540.000000\n",
       "mean        2.892656\n",
       "std         4.603877\n",
       "min         0.033200\n",
       "25%         0.470400\n",
       "50%         1.661200\n",
       "75%         3.932200\n",
       "max       128.027200\n",
       "Name: rate, dtype: float64"
      ]
     },
     "execution_count": 9,
     "metadata": {},
     "output_type": "execute_result"
    }
   ],
   "source": [
    "data['rate'].describe()"
   ]
  },
  {
   "cell_type": "code",
   "execution_count": 7,
   "metadata": {},
   "outputs": [
    {
     "data": {
      "text/plain": [
       "carrier                  0\n",
       "origin_port_code         0\n",
       "destination_port_code    0\n",
       "min_weight_quantity      0\n",
       "max_weight_quantity      0\n",
       "service_code             0\n",
       "minimum cost             0\n",
       "rate                     0\n",
       "mode_description         0\n",
       "transport_day_count      0\n",
       "carrier_type             0\n",
       "dtype: int64"
      ]
     },
     "execution_count": 7,
     "metadata": {},
     "output_type": "execute_result"
    }
   ],
   "source": [
    "data.isna().sum()"
   ]
  },
  {
   "cell_type": "markdown",
   "metadata": {},
   "source": [
    "### Duplicate rows"
   ]
  },
  {
   "cell_type": "code",
   "execution_count": 8,
   "metadata": {},
   "outputs": [
    {
     "name": "stdout",
     "output_type": "stream",
     "text": [
      "3\n"
     ]
    }
   ],
   "source": [
    "print(data.duplicated().sum())"
   ]
  },
  {
   "cell_type": "code",
   "execution_count": 9,
   "metadata": {},
   "outputs": [
    {
     "data": {
      "text/html": [
       "<div>\n",
       "<style scoped>\n",
       "    .dataframe tbody tr th:only-of-type {\n",
       "        vertical-align: middle;\n",
       "    }\n",
       "\n",
       "    .dataframe tbody tr th {\n",
       "        vertical-align: top;\n",
       "    }\n",
       "\n",
       "    .dataframe thead th {\n",
       "        text-align: right;\n",
       "    }\n",
       "</style>\n",
       "<table border=\"1\" class=\"dataframe\">\n",
       "  <thead>\n",
       "    <tr style=\"text-align: right;\">\n",
       "      <th></th>\n",
       "      <th>carrier</th>\n",
       "      <th>origin_port_code</th>\n",
       "      <th>destination_port_code</th>\n",
       "      <th>min_weight_quantity</th>\n",
       "      <th>max_weight_quantity</th>\n",
       "      <th>service_code</th>\n",
       "      <th>minimum cost</th>\n",
       "      <th>rate</th>\n",
       "      <th>mode_description</th>\n",
       "      <th>transport_day_count</th>\n",
       "      <th>carrier_type</th>\n",
       "    </tr>\n",
       "  </thead>\n",
       "  <tbody>\n",
       "    <tr>\n",
       "      <th>1494</th>\n",
       "      <td>V444_5</td>\n",
       "      <td>PORT03</td>\n",
       "      <td>PORT09</td>\n",
       "      <td>0.0</td>\n",
       "      <td>5000.0</td>\n",
       "      <td>DTD</td>\n",
       "      <td>27.2024</td>\n",
       "      <td>9.2024</td>\n",
       "      <td>GROUND</td>\n",
       "      <td>1</td>\n",
       "      <td>V88888888_0</td>\n",
       "    </tr>\n",
       "    <tr>\n",
       "      <th>1505</th>\n",
       "      <td>V444_0</td>\n",
       "      <td>PORT03</td>\n",
       "      <td>PORT09</td>\n",
       "      <td>0.0</td>\n",
       "      <td>5000.0</td>\n",
       "      <td>DTD</td>\n",
       "      <td>27.2024</td>\n",
       "      <td>13.2024</td>\n",
       "      <td>GROUND</td>\n",
       "      <td>1</td>\n",
       "      <td>V88888888_0</td>\n",
       "    </tr>\n",
       "    <tr>\n",
       "      <th>1510</th>\n",
       "      <td>V444_0</td>\n",
       "      <td>PORT03</td>\n",
       "      <td>PORT09</td>\n",
       "      <td>0.0</td>\n",
       "      <td>5000.0</td>\n",
       "      <td>DTD</td>\n",
       "      <td>27.2024</td>\n",
       "      <td>13.2024</td>\n",
       "      <td>GROUND</td>\n",
       "      <td>1</td>\n",
       "      <td>V88888888_0</td>\n",
       "    </tr>\n",
       "  </tbody>\n",
       "</table>\n",
       "</div>"
      ],
      "text/plain": [
       "     carrier origin_port_code destination_port_code  min_weight_quantity  \\\n",
       "1494  V444_5           PORT03                PORT09                  0.0   \n",
       "1505  V444_0           PORT03                PORT09                  0.0   \n",
       "1510  V444_0           PORT03                PORT09                  0.0   \n",
       "\n",
       "      max_weight_quantity service_code  minimum cost     rate  \\\n",
       "1494               5000.0          DTD       27.2024   9.2024   \n",
       "1505               5000.0          DTD       27.2024  13.2024   \n",
       "1510               5000.0          DTD       27.2024  13.2024   \n",
       "\n",
       "     mode_description  transport_day_count carrier_type  \n",
       "1494           GROUND                    1  V88888888_0  \n",
       "1505           GROUND                    1  V88888888_0  \n",
       "1510           GROUND                    1  V88888888_0  "
      ]
     },
     "execution_count": 9,
     "metadata": {},
     "output_type": "execute_result"
    }
   ],
   "source": [
    "data[data.duplicated()]"
   ]
  },
  {
   "cell_type": "code",
   "execution_count": 10,
   "metadata": {},
   "outputs": [],
   "source": [
    "data = data.drop(index=1505)\n",
    "data.reset_index(inplace=True, drop=True)"
   ]
  },
  {
   "cell_type": "markdown",
   "metadata": {},
   "source": [
    "After analyzing the duplicates, we found three rows. The first row differs from the others due to a different value in the rate column. Therefore, we will drop either the second or the third row, as they are identical in all other columns."
   ]
  },
  {
   "cell_type": "markdown",
   "metadata": {},
   "source": [
    "## Feature Engineering"
   ]
  },
  {
   "cell_type": "code",
   "execution_count": 11,
   "metadata": {},
   "outputs": [],
   "source": [
    "label_encoder = LabelEncoder()"
   ]
  },
  {
   "cell_type": "code",
   "execution_count": 14,
   "metadata": {},
   "outputs": [],
   "source": [
    "categorical_columns = [\n",
    "    'carrier',\n",
    "    'origin_port_code',\n",
    "    'destination_port_code',\n",
    "    'mode_description',\n",
    "    'service_code',\n",
    "    'carrier_type'\n",
    "]\n",
    "\n",
    "for column in categorical_columns:\n",
    "    label_encoder = LabelEncoder()\n",
    "    data[column] = label_encoder.fit_transform(data[column])"
   ]
  },
  {
   "cell_type": "code",
   "execution_count": 18,
   "metadata": {},
   "outputs": [
    {
     "data": {
      "text/plain": [
       "0       0.7132\n",
       "1       0.7512\n",
       "2       0.7892\n",
       "3       0.8272\n",
       "4       1.0552\n",
       "         ...  \n",
       "1534    0.4116\n",
       "1535    0.3112\n",
       "1536    0.4116\n",
       "1537    0.3112\n",
       "1538    0.4116\n",
       "Name: rate, Length: 1539, dtype: float64"
      ]
     },
     "execution_count": 18,
     "metadata": {},
     "output_type": "execute_result"
    }
   ],
   "source": [
    "data['rate']"
   ]
  },
  {
   "cell_type": "code",
   "execution_count": null,
   "metadata": {},
   "outputs": [],
   "source": []
  }
 ],
 "metadata": {
  "kernelspec": {
   "display_name": "Python 3",
   "language": "python",
   "name": "python3"
  },
  "language_info": {
   "codemirror_mode": {
    "name": "ipython",
    "version": 3
   },
   "file_extension": ".py",
   "mimetype": "text/x-python",
   "name": "python",
   "nbconvert_exporter": "python",
   "pygments_lexer": "ipython3",
   "version": "3.12.6"
  }
 },
 "nbformat": 4,
 "nbformat_minor": 2
}
